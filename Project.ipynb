{
 "cells": [
  {
   "cell_type": "code",
   "execution_count": 84,
   "id": "fbd38d7e",
   "metadata": {},
   "outputs": [],
   "source": [
    "import wfdb\n",
    "import numpy as np\n",
    "import pandas as pd\n",
    "\n",
    "\n"
   ]
  },
  {
   "cell_type": "code",
   "execution_count": 85,
   "id": "4099f6d7",
   "metadata": {},
   "outputs": [],
   "source": [
    "df= pd.read_csv('./DATA/pain_dataset_all_subjects.csv')"
   ]
  },
  {
   "cell_type": "code",
   "execution_count": 86,
   "id": "a8f46e30",
   "metadata": {},
   "outputs": [
    {
     "data": {
      "text/html": [
       "<div>\n",
       "<style scoped>\n",
       "    .dataframe tbody tr th:only-of-type {\n",
       "        vertical-align: middle;\n",
       "    }\n",
       "\n",
       "    .dataframe tbody tr th {\n",
       "        vertical-align: top;\n",
       "    }\n",
       "\n",
       "    .dataframe thead th {\n",
       "        text-align: right;\n",
       "    }\n",
       "</style>\n",
       "<table border=\"1\" class=\"dataframe\">\n",
       "  <thead>\n",
       "    <tr style=\"text-align: center;\">\n",
       "      <th></th>\n",
       "      <th>SpO2</th>\n",
       "      <th>HR</th>\n",
       "      <th>AccX</th>\n",
       "      <th>AccY</th>\n",
       "      <th>AccZ</th>\n",
       "      <th>Temp</th>\n",
       "      <th>EDA</th>\n",
       "      <th>Subject</th>\n",
       "      <th>Age</th>\n",
       "      <th>Gender</th>\n",
       "      <th>Height_cm</th>\n",
       "      <th>Weight_kg</th>\n",
       "    </tr>\n",
       "  </thead>\n",
       "  <tbody>\n",
       "    <tr>\n",
       "      <th>0</th>\n",
       "      <td>96.999969</td>\n",
       "      <td>89.000763</td>\n",
       "      <td>0.760015</td>\n",
       "      <td>-0.869990</td>\n",
       "      <td>-0.100004</td>\n",
       "      <td>30.100043</td>\n",
       "      <td>0.083039</td>\n",
       "      <td>Subject1</td>\n",
       "      <td>30</td>\n",
       "      <td>M</td>\n",
       "      <td>177</td>\n",
       "      <td>94</td>\n",
       "    </tr>\n",
       "    <tr>\n",
       "      <th>1</th>\n",
       "      <td>96.999969</td>\n",
       "      <td>88.000137</td>\n",
       "      <td>0.750005</td>\n",
       "      <td>-0.869990</td>\n",
       "      <td>-0.110031</td>\n",
       "      <td>30.100043</td>\n",
       "      <td>0.081028</td>\n",
       "      <td>Subject1</td>\n",
       "      <td>30</td>\n",
       "      <td>M</td>\n",
       "      <td>177</td>\n",
       "      <td>94</td>\n",
       "    </tr>\n",
       "    <tr>\n",
       "      <th>2</th>\n",
       "      <td>96.999969</td>\n",
       "      <td>87.000443</td>\n",
       "      <td>0.750005</td>\n",
       "      <td>-0.869990</td>\n",
       "      <td>-0.110031</td>\n",
       "      <td>30.100043</td>\n",
       "      <td>0.083039</td>\n",
       "      <td>Subject1</td>\n",
       "      <td>30</td>\n",
       "      <td>M</td>\n",
       "      <td>177</td>\n",
       "      <td>94</td>\n",
       "    </tr>\n",
       "    <tr>\n",
       "      <th>3</th>\n",
       "      <td>96.999969</td>\n",
       "      <td>87.000443</td>\n",
       "      <td>0.750005</td>\n",
       "      <td>-0.879993</td>\n",
       "      <td>-0.100004</td>\n",
       "      <td>30.100043</td>\n",
       "      <td>0.083039</td>\n",
       "      <td>Subject1</td>\n",
       "      <td>30</td>\n",
       "      <td>M</td>\n",
       "      <td>177</td>\n",
       "      <td>94</td>\n",
       "    </tr>\n",
       "    <tr>\n",
       "      <th>4</th>\n",
       "      <td>96.999969</td>\n",
       "      <td>87.000443</td>\n",
       "      <td>0.760015</td>\n",
       "      <td>-0.859987</td>\n",
       "      <td>-0.100004</td>\n",
       "      <td>30.100043</td>\n",
       "      <td>0.081028</td>\n",
       "      <td>Subject1</td>\n",
       "      <td>30</td>\n",
       "      <td>M</td>\n",
       "      <td>177</td>\n",
       "      <td>94</td>\n",
       "    </tr>\n",
       "  </tbody>\n",
       "</table>\n",
       "</div>"
      ],
      "text/plain": [
       "     SpO2        HR        AccX      AccY      AccZ      Temp        EDA    \\\n",
       "0  96.999969  89.000763  0.760015 -0.869990 -0.100004  30.100043  0.083039   \n",
       "1  96.999969  88.000137  0.750005 -0.869990 -0.110031  30.100043  0.081028   \n",
       "2  96.999969  87.000443  0.750005 -0.869990 -0.110031  30.100043  0.083039   \n",
       "3  96.999969  87.000443  0.750005 -0.879993 -0.100004  30.100043  0.083039   \n",
       "4  96.999969  87.000443  0.760015 -0.859987 -0.100004  30.100043  0.081028   \n",
       "\n",
       "   Subject   Age Gender  Height_cm  Weight_kg  \n",
       "0  Subject1  30     M       177        94      \n",
       "1  Subject1  30     M       177        94      \n",
       "2  Subject1  30     M       177        94      \n",
       "3  Subject1  30     M       177        94      \n",
       "4  Subject1  30     M       177        94      "
      ]
     },
     "execution_count": 86,
     "metadata": {},
     "output_type": "execute_result"
    }
   ],
   "source": [
    "df.head()"
   ]
  },
  {
   "cell_type": "code",
   "execution_count": 87,
   "id": "7559430e",
   "metadata": {},
   "outputs": [
    {
     "data": {
      "application/vnd.jupyter.widget-view+json": {
       "model_id": "bf85f6ed3ce64213bb1cde6492727a7e",
       "version_major": 2,
       "version_minor": 0
      },
      "text/plain": [
       "Summarize dataset:   0%|          | 0/5 [00:00<?, ?it/s]"
      ]
     },
     "metadata": {},
     "output_type": "display_data"
    },
    {
     "name": "stderr",
     "output_type": "stream",
     "text": [
      "100%|██████████| 12/12 [00:00<00:00, 79.27it/s]\n"
     ]
    },
    {
     "data": {
      "application/vnd.jupyter.widget-view+json": {
       "model_id": "5c89e9f3b00e4dca868a0e1fbb11ba48",
       "version_major": 2,
       "version_minor": 0
      },
      "text/plain": [
       "Generate report structure:   0%|          | 0/1 [00:00<?, ?it/s]"
      ]
     },
     "metadata": {},
     "output_type": "display_data"
    },
    {
     "data": {
      "application/vnd.jupyter.widget-view+json": {
       "model_id": "9edd16815144459d88481582948d0a05",
       "version_major": 2,
       "version_minor": 0
      },
      "text/plain": [
       "Render HTML:   0%|          | 0/1 [00:00<?, ?it/s]"
      ]
     },
     "metadata": {},
     "output_type": "display_data"
    },
    {
     "data": {
      "application/vnd.jupyter.widget-view+json": {
       "model_id": "fb1f6fb23ca64371854c367c5a86dc60",
       "version_major": 2,
       "version_minor": 0
      },
      "text/plain": [
       "Export report to file:   0%|          | 0/1 [00:00<?, ?it/s]"
      ]
     },
     "metadata": {},
     "output_type": "display_data"
    }
   ],
   "source": [
    "from ydata_profiling import ProfileReport\n",
    "\n",
    "profile = ProfileReport(df, title=\"Unsupervised EDA Report\", explorative=True)\n",
    "profile.to_file(\"./EDA/ydata.html\")  # or profile.to_file(\"eda_report.html\")\n"
   ]
  },
  {
   "cell_type": "code",
   "execution_count": 88,
   "id": "d6f822ea",
   "metadata": {},
   "outputs": [
    {
     "name": "stdout",
     "output_type": "stream",
     "text": [
      "<class 'pandas.core.frame.DataFrame'>\n",
      "RangeIndex: 46109 entries, 0 to 46108\n",
      "Data columns (total 12 columns):\n",
      " #   Column     Non-Null Count  Dtype  \n",
      "---  ------     --------------  -----  \n",
      " 0   SpO2       46109 non-null  float64\n",
      " 1   HR         46109 non-null  float64\n",
      " 2   AccX       46109 non-null  float64\n",
      " 3   AccY       46109 non-null  float64\n",
      " 4   AccZ       46109 non-null  float64\n",
      " 5   Temp       46109 non-null  float64\n",
      " 6   EDA        46109 non-null  float64\n",
      " 7   Subject    46109 non-null  object \n",
      " 8   Age        46109 non-null  int64  \n",
      " 9   Gender     46109 non-null  object \n",
      " 10  Height_cm  46109 non-null  int64  \n",
      " 11  Weight_kg  46109 non-null  int64  \n",
      "dtypes: float64(7), int64(3), object(2)\n",
      "memory usage: 4.2+ MB\n"
     ]
    }
   ],
   "source": [
    "df.info()"
   ]
  },
  {
   "cell_type": "code",
   "execution_count": 89,
   "id": "3959e463",
   "metadata": {},
   "outputs": [
    {
     "data": {
      "text/plain": [
       "SpO2         0\n",
       "HR           0\n",
       "AccX         0\n",
       "AccY         0\n",
       "AccZ         0\n",
       "Temp         0\n",
       "EDA          0\n",
       "Subject      0\n",
       "Age          0\n",
       "Gender       0\n",
       "Height_cm    0\n",
       "Weight_kg    0\n",
       "dtype: int64"
      ]
     },
     "execution_count": 89,
     "metadata": {},
     "output_type": "execute_result"
    }
   ],
   "source": [
    "df.isnull().sum()\n"
   ]
  },
  {
   "cell_type": "code",
   "execution_count": 90,
   "id": "5dbf240e",
   "metadata": {},
   "outputs": [
    {
     "data": {
      "text/plain": [
       "(46109, 12)"
      ]
     },
     "execution_count": 90,
     "metadata": {},
     "output_type": "execute_result"
    }
   ],
   "source": [
    "df.shape"
   ]
  },
  {
   "cell_type": "code",
   "execution_count": null,
   "id": "3db95d92",
   "metadata": {},
   "outputs": [],
   "source": []
  },
  {
   "cell_type": "code",
   "execution_count": 91,
   "id": "9288a925",
   "metadata": {},
   "outputs": [
    {
     "data": {
      "text/plain": [
       "array(['M', 'F'], dtype=object)"
      ]
     },
     "execution_count": 91,
     "metadata": {},
     "output_type": "execute_result"
    }
   ],
   "source": [
    "df['Gender'].unique()"
   ]
  },
  {
   "cell_type": "code",
   "execution_count": 92,
   "id": "1ab65c1b",
   "metadata": {},
   "outputs": [
    {
     "name": "stdout",
     "output_type": "stream",
     "text": [
      "<class 'pandas.core.frame.DataFrame'>\n",
      "RangeIndex: 46109 entries, 0 to 46108\n",
      "Data columns (total 12 columns):\n",
      " #   Column     Non-Null Count  Dtype  \n",
      "---  ------     --------------  -----  \n",
      " 0   SpO2       46109 non-null  float64\n",
      " 1   HR         46109 non-null  float64\n",
      " 2   AccX       46109 non-null  float64\n",
      " 3   AccY       46109 non-null  float64\n",
      " 4   AccZ       46109 non-null  float64\n",
      " 5   Temp       46109 non-null  float64\n",
      " 6   EDA        46109 non-null  float64\n",
      " 7   Subject    46109 non-null  object \n",
      " 8   Age        46109 non-null  int64  \n",
      " 9   Gender     46109 non-null  object \n",
      " 10  Height_cm  46109 non-null  int64  \n",
      " 11  Weight_kg  46109 non-null  int64  \n",
      "dtypes: float64(7), int64(3), object(2)\n",
      "memory usage: 4.2+ MB\n"
     ]
    }
   ],
   "source": [
    "df.info()"
   ]
  },
  {
   "cell_type": "code",
   "execution_count": 93,
   "id": "eadab545",
   "metadata": {},
   "outputs": [
    {
     "data": {
      "text/html": [
       "<div>\n",
       "<style scoped>\n",
       "    .dataframe tbody tr th:only-of-type {\n",
       "        vertical-align: middle;\n",
       "    }\n",
       "\n",
       "    .dataframe tbody tr th {\n",
       "        vertical-align: top;\n",
       "    }\n",
       "\n",
       "    .dataframe thead th {\n",
       "        text-align: right;\n",
       "    }\n",
       "</style>\n",
       "<table border=\"1\" class=\"dataframe\">\n",
       "  <thead>\n",
       "    <tr style=\"text-align: center;\">\n",
       "      <th></th>\n",
       "      <th>SpO2</th>\n",
       "      <th>HR</th>\n",
       "      <th>AccX</th>\n",
       "      <th>AccY</th>\n",
       "      <th>AccZ</th>\n",
       "      <th>Temp</th>\n",
       "      <th>EDA</th>\n",
       "      <th>Subject</th>\n",
       "      <th>Age</th>\n",
       "      <th>Gender</th>\n",
       "      <th>Height_cm</th>\n",
       "      <th>Weight_kg</th>\n",
       "    </tr>\n",
       "  </thead>\n",
       "  <tbody>\n",
       "    <tr>\n",
       "      <th>0</th>\n",
       "      <td>96.999969</td>\n",
       "      <td>89.000763</td>\n",
       "      <td>0.760015</td>\n",
       "      <td>-0.869990</td>\n",
       "      <td>-0.100004</td>\n",
       "      <td>30.100043</td>\n",
       "      <td>0.083039</td>\n",
       "      <td>Subject1</td>\n",
       "      <td>30</td>\n",
       "      <td>M</td>\n",
       "      <td>177</td>\n",
       "      <td>94</td>\n",
       "    </tr>\n",
       "    <tr>\n",
       "      <th>1</th>\n",
       "      <td>96.999969</td>\n",
       "      <td>88.000137</td>\n",
       "      <td>0.750005</td>\n",
       "      <td>-0.869990</td>\n",
       "      <td>-0.110031</td>\n",
       "      <td>30.100043</td>\n",
       "      <td>0.081028</td>\n",
       "      <td>Subject1</td>\n",
       "      <td>30</td>\n",
       "      <td>M</td>\n",
       "      <td>177</td>\n",
       "      <td>94</td>\n",
       "    </tr>\n",
       "    <tr>\n",
       "      <th>2</th>\n",
       "      <td>96.999969</td>\n",
       "      <td>87.000443</td>\n",
       "      <td>0.750005</td>\n",
       "      <td>-0.869990</td>\n",
       "      <td>-0.110031</td>\n",
       "      <td>30.100043</td>\n",
       "      <td>0.083039</td>\n",
       "      <td>Subject1</td>\n",
       "      <td>30</td>\n",
       "      <td>M</td>\n",
       "      <td>177</td>\n",
       "      <td>94</td>\n",
       "    </tr>\n",
       "    <tr>\n",
       "      <th>3</th>\n",
       "      <td>96.999969</td>\n",
       "      <td>87.000443</td>\n",
       "      <td>0.750005</td>\n",
       "      <td>-0.879993</td>\n",
       "      <td>-0.100004</td>\n",
       "      <td>30.100043</td>\n",
       "      <td>0.083039</td>\n",
       "      <td>Subject1</td>\n",
       "      <td>30</td>\n",
       "      <td>M</td>\n",
       "      <td>177</td>\n",
       "      <td>94</td>\n",
       "    </tr>\n",
       "    <tr>\n",
       "      <th>4</th>\n",
       "      <td>96.999969</td>\n",
       "      <td>87.000443</td>\n",
       "      <td>0.760015</td>\n",
       "      <td>-0.859987</td>\n",
       "      <td>-0.100004</td>\n",
       "      <td>30.100043</td>\n",
       "      <td>0.081028</td>\n",
       "      <td>Subject1</td>\n",
       "      <td>30</td>\n",
       "      <td>M</td>\n",
       "      <td>177</td>\n",
       "      <td>94</td>\n",
       "    </tr>\n",
       "  </tbody>\n",
       "</table>\n",
       "</div>"
      ],
      "text/plain": [
       "     SpO2        HR        AccX      AccY      AccZ      Temp        EDA    \\\n",
       "0  96.999969  89.000763  0.760015 -0.869990 -0.100004  30.100043  0.083039   \n",
       "1  96.999969  88.000137  0.750005 -0.869990 -0.110031  30.100043  0.081028   \n",
       "2  96.999969  87.000443  0.750005 -0.869990 -0.110031  30.100043  0.083039   \n",
       "3  96.999969  87.000443  0.750005 -0.879993 -0.100004  30.100043  0.083039   \n",
       "4  96.999969  87.000443  0.760015 -0.859987 -0.100004  30.100043  0.081028   \n",
       "\n",
       "   Subject   Age Gender  Height_cm  Weight_kg  \n",
       "0  Subject1  30     M       177        94      \n",
       "1  Subject1  30     M       177        94      \n",
       "2  Subject1  30     M       177        94      \n",
       "3  Subject1  30     M       177        94      \n",
       "4  Subject1  30     M       177        94      "
      ]
     },
     "execution_count": 93,
     "metadata": {},
     "output_type": "execute_result"
    }
   ],
   "source": [
    "df.head()"
   ]
  },
  {
   "cell_type": "code",
   "execution_count": 94,
   "id": "81ed67d5",
   "metadata": {},
   "outputs": [],
   "source": [
    "final_df=df.copy()"
   ]
  },
  {
   "cell_type": "code",
   "execution_count": 95,
   "id": "53faa0e7",
   "metadata": {},
   "outputs": [],
   "source": [
    "final_df.drop('Age',axis=1,inplace=True)"
   ]
  },
  {
   "cell_type": "code",
   "execution_count": 96,
   "id": "51457841",
   "metadata": {},
   "outputs": [],
   "source": [
    "final_df.drop('Weight_kg',axis=1,inplace=True)\n"
   ]
  },
  {
   "cell_type": "code",
   "execution_count": 97,
   "id": "55394dca",
   "metadata": {},
   "outputs": [
    {
     "data": {
      "text/html": [
       "<div>\n",
       "<style scoped>\n",
       "    .dataframe tbody tr th:only-of-type {\n",
       "        vertical-align: middle;\n",
       "    }\n",
       "\n",
       "    .dataframe tbody tr th {\n",
       "        vertical-align: top;\n",
       "    }\n",
       "\n",
       "    .dataframe thead th {\n",
       "        text-align: right;\n",
       "    }\n",
       "</style>\n",
       "<table border=\"1\" class=\"dataframe\">\n",
       "  <thead>\n",
       "    <tr style=\"text-align: center;\">\n",
       "      <th></th>\n",
       "      <th>SpO2</th>\n",
       "      <th>HR</th>\n",
       "      <th>AccX</th>\n",
       "      <th>AccY</th>\n",
       "      <th>AccZ</th>\n",
       "      <th>Temp</th>\n",
       "      <th>EDA</th>\n",
       "      <th>Subject</th>\n",
       "      <th>Gender</th>\n",
       "      <th>Height_cm</th>\n",
       "    </tr>\n",
       "  </thead>\n",
       "  <tbody>\n",
       "    <tr>\n",
       "      <th>0</th>\n",
       "      <td>96.999969</td>\n",
       "      <td>89.000763</td>\n",
       "      <td>0.760015</td>\n",
       "      <td>-0.869990</td>\n",
       "      <td>-0.100004</td>\n",
       "      <td>30.100043</td>\n",
       "      <td>0.083039</td>\n",
       "      <td>Subject1</td>\n",
       "      <td>M</td>\n",
       "      <td>177</td>\n",
       "    </tr>\n",
       "    <tr>\n",
       "      <th>1</th>\n",
       "      <td>96.999969</td>\n",
       "      <td>88.000137</td>\n",
       "      <td>0.750005</td>\n",
       "      <td>-0.869990</td>\n",
       "      <td>-0.110031</td>\n",
       "      <td>30.100043</td>\n",
       "      <td>0.081028</td>\n",
       "      <td>Subject1</td>\n",
       "      <td>M</td>\n",
       "      <td>177</td>\n",
       "    </tr>\n",
       "    <tr>\n",
       "      <th>2</th>\n",
       "      <td>96.999969</td>\n",
       "      <td>87.000443</td>\n",
       "      <td>0.750005</td>\n",
       "      <td>-0.869990</td>\n",
       "      <td>-0.110031</td>\n",
       "      <td>30.100043</td>\n",
       "      <td>0.083039</td>\n",
       "      <td>Subject1</td>\n",
       "      <td>M</td>\n",
       "      <td>177</td>\n",
       "    </tr>\n",
       "    <tr>\n",
       "      <th>3</th>\n",
       "      <td>96.999969</td>\n",
       "      <td>87.000443</td>\n",
       "      <td>0.750005</td>\n",
       "      <td>-0.879993</td>\n",
       "      <td>-0.100004</td>\n",
       "      <td>30.100043</td>\n",
       "      <td>0.083039</td>\n",
       "      <td>Subject1</td>\n",
       "      <td>M</td>\n",
       "      <td>177</td>\n",
       "    </tr>\n",
       "    <tr>\n",
       "      <th>4</th>\n",
       "      <td>96.999969</td>\n",
       "      <td>87.000443</td>\n",
       "      <td>0.760015</td>\n",
       "      <td>-0.859987</td>\n",
       "      <td>-0.100004</td>\n",
       "      <td>30.100043</td>\n",
       "      <td>0.081028</td>\n",
       "      <td>Subject1</td>\n",
       "      <td>M</td>\n",
       "      <td>177</td>\n",
       "    </tr>\n",
       "  </tbody>\n",
       "</table>\n",
       "</div>"
      ],
      "text/plain": [
       "     SpO2        HR        AccX      AccY      AccZ      Temp        EDA    \\\n",
       "0  96.999969  89.000763  0.760015 -0.869990 -0.100004  30.100043  0.083039   \n",
       "1  96.999969  88.000137  0.750005 -0.869990 -0.110031  30.100043  0.081028   \n",
       "2  96.999969  87.000443  0.750005 -0.869990 -0.110031  30.100043  0.083039   \n",
       "3  96.999969  87.000443  0.750005 -0.879993 -0.100004  30.100043  0.083039   \n",
       "4  96.999969  87.000443  0.760015 -0.859987 -0.100004  30.100043  0.081028   \n",
       "\n",
       "   Subject  Gender  Height_cm  \n",
       "0  Subject1    M       177     \n",
       "1  Subject1    M       177     \n",
       "2  Subject1    M       177     \n",
       "3  Subject1    M       177     \n",
       "4  Subject1    M       177     "
      ]
     },
     "execution_count": 97,
     "metadata": {},
     "output_type": "execute_result"
    }
   ],
   "source": [
    "final_df.head()"
   ]
  },
  {
   "cell_type": "code",
   "execution_count": 98,
   "id": "bec17381",
   "metadata": {},
   "outputs": [
    {
     "name": "stdout",
     "output_type": "stream",
     "text": [
      "0        0\n",
      "1        0\n",
      "2        0\n",
      "3        0\n",
      "4        0\n",
      "        ..\n",
      "46104    1\n",
      "46105    1\n",
      "46106    1\n",
      "46107    1\n",
      "46108    1\n",
      "Name: Gender, Length: 46109, dtype: int64\n"
     ]
    }
   ],
   "source": [
    "final_df['Gender'] = final_df['Gender'].map({'M': 0, 'F': 1})\n",
    "print(final_df['Gender'])\n"
   ]
  },
  {
   "cell_type": "code",
   "execution_count": 99,
   "id": "71faa710",
   "metadata": {},
   "outputs": [
    {
     "name": "stdout",
     "output_type": "stream",
     "text": [
      "<class 'pandas.core.frame.DataFrame'>\n",
      "RangeIndex: 46109 entries, 0 to 46108\n",
      "Data columns (total 10 columns):\n",
      " #   Column     Non-Null Count  Dtype  \n",
      "---  ------     --------------  -----  \n",
      " 0   SpO2       46109 non-null  float64\n",
      " 1   HR         46109 non-null  float64\n",
      " 2   AccX       46109 non-null  float64\n",
      " 3   AccY       46109 non-null  float64\n",
      " 4   AccZ       46109 non-null  float64\n",
      " 5   Temp       46109 non-null  float64\n",
      " 6   EDA        46109 non-null  float64\n",
      " 7   Subject    46109 non-null  object \n",
      " 8   Gender     46109 non-null  int64  \n",
      " 9   Height_cm  46109 non-null  int64  \n",
      "dtypes: float64(7), int64(2), object(1)\n",
      "memory usage: 3.5+ MB\n"
     ]
    }
   ],
   "source": [
    "final_df.info()"
   ]
  },
  {
   "cell_type": "code",
   "execution_count": 101,
   "id": "5d9c549b",
   "metadata": {},
   "outputs": [],
   "source": [
    "final_df['Subject'] = final_df['Subject'].str.extract(r'(\\d+)').astype(int)\n"
   ]
  },
  {
   "cell_type": "code",
   "execution_count": 102,
   "id": "f8620baf",
   "metadata": {},
   "outputs": [
    {
     "name": "stdout",
     "output_type": "stream",
     "text": [
      "<class 'pandas.core.frame.DataFrame'>\n",
      "RangeIndex: 46109 entries, 0 to 46108\n",
      "Data columns (total 10 columns):\n",
      " #   Column     Non-Null Count  Dtype  \n",
      "---  ------     --------------  -----  \n",
      " 0   SpO2       46109 non-null  float64\n",
      " 1   HR         46109 non-null  float64\n",
      " 2   AccX       46109 non-null  float64\n",
      " 3   AccY       46109 non-null  float64\n",
      " 4   AccZ       46109 non-null  float64\n",
      " 5   Temp       46109 non-null  float64\n",
      " 6   EDA        46109 non-null  float64\n",
      " 7   Subject    46109 non-null  int64  \n",
      " 8   Gender     46109 non-null  int64  \n",
      " 9   Height_cm  46109 non-null  int64  \n",
      "dtypes: float64(7), int64(3)\n",
      "memory usage: 3.5 MB\n"
     ]
    }
   ],
   "source": [
    "final_df.info()"
   ]
  },
  {
   "cell_type": "code",
   "execution_count": 103,
   "id": "249268ee",
   "metadata": {},
   "outputs": [
    {
     "data": {
      "text/html": [
       "<div>\n",
       "<style scoped>\n",
       "    .dataframe tbody tr th:only-of-type {\n",
       "        vertical-align: middle;\n",
       "    }\n",
       "\n",
       "    .dataframe tbody tr th {\n",
       "        vertical-align: top;\n",
       "    }\n",
       "\n",
       "    .dataframe thead th {\n",
       "        text-align: right;\n",
       "    }\n",
       "</style>\n",
       "<table border=\"1\" class=\"dataframe\">\n",
       "  <thead>\n",
       "    <tr style=\"text-align: center;\">\n",
       "      <th></th>\n",
       "      <th>SpO2</th>\n",
       "      <th>HR</th>\n",
       "      <th>AccX</th>\n",
       "      <th>AccY</th>\n",
       "      <th>AccZ</th>\n",
       "      <th>Temp</th>\n",
       "      <th>EDA</th>\n",
       "      <th>Subject</th>\n",
       "      <th>Gender</th>\n",
       "      <th>Height_cm</th>\n",
       "    </tr>\n",
       "  </thead>\n",
       "  <tbody>\n",
       "    <tr>\n",
       "      <th>0</th>\n",
       "      <td>96.999969</td>\n",
       "      <td>89.000763</td>\n",
       "      <td>0.760015</td>\n",
       "      <td>-0.869990</td>\n",
       "      <td>-0.100004</td>\n",
       "      <td>30.100043</td>\n",
       "      <td>0.083039</td>\n",
       "      <td>1</td>\n",
       "      <td>0</td>\n",
       "      <td>177</td>\n",
       "    </tr>\n",
       "    <tr>\n",
       "      <th>1</th>\n",
       "      <td>96.999969</td>\n",
       "      <td>88.000137</td>\n",
       "      <td>0.750005</td>\n",
       "      <td>-0.869990</td>\n",
       "      <td>-0.110031</td>\n",
       "      <td>30.100043</td>\n",
       "      <td>0.081028</td>\n",
       "      <td>1</td>\n",
       "      <td>0</td>\n",
       "      <td>177</td>\n",
       "    </tr>\n",
       "    <tr>\n",
       "      <th>2</th>\n",
       "      <td>96.999969</td>\n",
       "      <td>87.000443</td>\n",
       "      <td>0.750005</td>\n",
       "      <td>-0.869990</td>\n",
       "      <td>-0.110031</td>\n",
       "      <td>30.100043</td>\n",
       "      <td>0.083039</td>\n",
       "      <td>1</td>\n",
       "      <td>0</td>\n",
       "      <td>177</td>\n",
       "    </tr>\n",
       "    <tr>\n",
       "      <th>3</th>\n",
       "      <td>96.999969</td>\n",
       "      <td>87.000443</td>\n",
       "      <td>0.750005</td>\n",
       "      <td>-0.879993</td>\n",
       "      <td>-0.100004</td>\n",
       "      <td>30.100043</td>\n",
       "      <td>0.083039</td>\n",
       "      <td>1</td>\n",
       "      <td>0</td>\n",
       "      <td>177</td>\n",
       "    </tr>\n",
       "    <tr>\n",
       "      <th>4</th>\n",
       "      <td>96.999969</td>\n",
       "      <td>87.000443</td>\n",
       "      <td>0.760015</td>\n",
       "      <td>-0.859987</td>\n",
       "      <td>-0.100004</td>\n",
       "      <td>30.100043</td>\n",
       "      <td>0.081028</td>\n",
       "      <td>1</td>\n",
       "      <td>0</td>\n",
       "      <td>177</td>\n",
       "    </tr>\n",
       "  </tbody>\n",
       "</table>\n",
       "</div>"
      ],
      "text/plain": [
       "     SpO2        HR        AccX      AccY      AccZ      Temp        EDA    \\\n",
       "0  96.999969  89.000763  0.760015 -0.869990 -0.100004  30.100043  0.083039   \n",
       "1  96.999969  88.000137  0.750005 -0.869990 -0.110031  30.100043  0.081028   \n",
       "2  96.999969  87.000443  0.750005 -0.869990 -0.110031  30.100043  0.083039   \n",
       "3  96.999969  87.000443  0.750005 -0.879993 -0.100004  30.100043  0.083039   \n",
       "4  96.999969  87.000443  0.760015 -0.859987 -0.100004  30.100043  0.081028   \n",
       "\n",
       "   Subject  Gender  Height_cm  \n",
       "0     1        0       177     \n",
       "1     1        0       177     \n",
       "2     1        0       177     \n",
       "3     1        0       177     \n",
       "4     1        0       177     "
      ]
     },
     "execution_count": 103,
     "metadata": {},
     "output_type": "execute_result"
    }
   ],
   "source": [
    "final_df.head()"
   ]
  },
  {
   "cell_type": "code",
   "execution_count": 104,
   "id": "52051b5a",
   "metadata": {},
   "outputs": [],
   "source": [
    "final_df.drop('Height_cm',axis=1,inplace=True)\n"
   ]
  },
  {
   "cell_type": "code",
   "execution_count": 105,
   "id": "246a9c8c",
   "metadata": {},
   "outputs": [
    {
     "name": "stdout",
     "output_type": "stream",
     "text": [
      "<class 'pandas.core.frame.DataFrame'>\n",
      "RangeIndex: 46109 entries, 0 to 46108\n",
      "Data columns (total 9 columns):\n",
      " #   Column   Non-Null Count  Dtype  \n",
      "---  ------   --------------  -----  \n",
      " 0   SpO2     46109 non-null  float64\n",
      " 1   HR       46109 non-null  float64\n",
      " 2   AccX     46109 non-null  float64\n",
      " 3   AccY     46109 non-null  float64\n",
      " 4   AccZ     46109 non-null  float64\n",
      " 5   Temp     46109 non-null  float64\n",
      " 6   EDA      46109 non-null  float64\n",
      " 7   Subject  46109 non-null  int64  \n",
      " 8   Gender   46109 non-null  int64  \n",
      "dtypes: float64(7), int64(2)\n",
      "memory usage: 3.2 MB\n"
     ]
    }
   ],
   "source": [
    "final_df.info()"
   ]
  },
  {
   "cell_type": "code",
   "execution_count": 106,
   "id": "2f75f6b5",
   "metadata": {},
   "outputs": [],
   "source": [
    "from sklearn.preprocessing import StandardScaler\n",
    "scaler = StandardScaler()\n",
    "df_scaled = scaler.fit_transform(final_df[[\"EDA\", \"HR\", \"Temp\", \"SpO2\", \"AccX\", \"AccY\", \"AccZ\"]])\n"
   ]
  },
  {
   "cell_type": "code",
   "execution_count": 109,
   "id": "dde892a9",
   "metadata": {},
   "outputs": [],
   "source": [
    "type(df_scaled)\n",
    "df_scaled = pd.DataFrame(df_scaled, columns=[\"EDA\", \"HR\", \"Temp\", \"SpO2\", \"AccX\", \"AccY\", \"AccZ\"])"
   ]
  },
  {
   "cell_type": "code",
   "execution_count": 110,
   "id": "feb88473",
   "metadata": {},
   "outputs": [
    {
     "data": {
      "text/plain": [
       "pandas.core.frame.DataFrame"
      ]
     },
     "execution_count": 110,
     "metadata": {},
     "output_type": "execute_result"
    }
   ],
   "source": [
    "type(df_scaled)"
   ]
  },
  {
   "cell_type": "code",
   "execution_count": 111,
   "id": "08989a8b",
   "metadata": {},
   "outputs": [
    {
     "data": {
      "text/html": [
       "<div>\n",
       "<style scoped>\n",
       "    .dataframe tbody tr th:only-of-type {\n",
       "        vertical-align: middle;\n",
       "    }\n",
       "\n",
       "    .dataframe tbody tr th {\n",
       "        vertical-align: top;\n",
       "    }\n",
       "\n",
       "    .dataframe thead th {\n",
       "        text-align: right;\n",
       "    }\n",
       "</style>\n",
       "<table border=\"1\" class=\"dataframe\">\n",
       "  <thead>\n",
       "    <tr style=\"text-align: center;\">\n",
       "      <th></th>\n",
       "      <th>EDA</th>\n",
       "      <th>HR</th>\n",
       "      <th>Temp</th>\n",
       "      <th>SpO2</th>\n",
       "      <th>AccX</th>\n",
       "      <th>AccY</th>\n",
       "      <th>AccZ</th>\n",
       "    </tr>\n",
       "  </thead>\n",
       "  <tbody>\n",
       "    <tr>\n",
       "      <th>0</th>\n",
       "      <td>-0.782556</td>\n",
       "      <td>0.763480</td>\n",
       "      <td>-1.133523</td>\n",
       "      <td>0.622977</td>\n",
       "      <td>0.437645</td>\n",
       "      <td>-0.644466</td>\n",
       "      <td>0.161169</td>\n",
       "    </tr>\n",
       "    <tr>\n",
       "      <th>1</th>\n",
       "      <td>-0.783503</td>\n",
       "      <td>0.698079</td>\n",
       "      <td>-1.133523</td>\n",
       "      <td>0.622977</td>\n",
       "      <td>0.416661</td>\n",
       "      <td>-0.644466</td>\n",
       "      <td>0.134616</td>\n",
       "    </tr>\n",
       "    <tr>\n",
       "      <th>2</th>\n",
       "      <td>-0.782556</td>\n",
       "      <td>0.632740</td>\n",
       "      <td>-1.133523</td>\n",
       "      <td>0.622977</td>\n",
       "      <td>0.416661</td>\n",
       "      <td>-0.644466</td>\n",
       "      <td>0.134616</td>\n",
       "    </tr>\n",
       "    <tr>\n",
       "      <th>3</th>\n",
       "      <td>-0.782556</td>\n",
       "      <td>0.632740</td>\n",
       "      <td>-1.133523</td>\n",
       "      <td>0.622977</td>\n",
       "      <td>0.416661</td>\n",
       "      <td>-0.680700</td>\n",
       "      <td>0.161169</td>\n",
       "    </tr>\n",
       "    <tr>\n",
       "      <th>4</th>\n",
       "      <td>-0.783503</td>\n",
       "      <td>0.632740</td>\n",
       "      <td>-1.133523</td>\n",
       "      <td>0.622977</td>\n",
       "      <td>0.437645</td>\n",
       "      <td>-0.608233</td>\n",
       "      <td>0.161169</td>\n",
       "    </tr>\n",
       "  </tbody>\n",
       "</table>\n",
       "</div>"
      ],
      "text/plain": [
       "      EDA       HR       Temp      SpO2      AccX      AccY      AccZ  \n",
       "0 -0.782556  0.763480 -1.133523  0.622977  0.437645 -0.644466  0.161169\n",
       "1 -0.783503  0.698079 -1.133523  0.622977  0.416661 -0.644466  0.134616\n",
       "2 -0.782556  0.632740 -1.133523  0.622977  0.416661 -0.644466  0.134616\n",
       "3 -0.782556  0.632740 -1.133523  0.622977  0.416661 -0.680700  0.161169\n",
       "4 -0.783503  0.632740 -1.133523  0.622977  0.437645 -0.608233  0.161169"
      ]
     },
     "execution_count": 111,
     "metadata": {},
     "output_type": "execute_result"
    }
   ],
   "source": [
    "df_scaled.head()"
   ]
  },
  {
   "cell_type": "code",
   "execution_count": null,
   "id": "72f1e15c",
   "metadata": {},
   "outputs": [],
   "source": []
  }
 ],
 "metadata": {
  "kernelspec": {
   "display_name": "Python 3",
   "language": "python",
   "name": "python3"
  },
  "language_info": {
   "codemirror_mode": {
    "name": "ipython",
    "version": 3
   },
   "file_extension": ".py",
   "mimetype": "text/x-python",
   "name": "python",
   "nbconvert_exporter": "python",
   "pygments_lexer": "ipython3",
   "version": "3.13.1"
  }
 },
 "nbformat": 4,
 "nbformat_minor": 5
}
