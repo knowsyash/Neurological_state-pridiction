{
 "cells": [
  {
   "cell_type": "code",
   "execution_count": 3,
   "id": "fbd38d7e",
   "metadata": {},
   "outputs": [],
   "source": [
    "import wfdb\n",
    "import numpy as np\n",
    "import pandas as pd\n",
    "\n",
    "\n"
   ]
  },
  {
   "cell_type": "code",
   "execution_count": 5,
   "id": "4099f6d7",
   "metadata": {},
   "outputs": [],
   "source": [
    "df= pd.read_csv('./DATA/pain_dataset_all_subjects.csv')"
   ]
  },
  {
   "cell_type": "code",
   "execution_count": null,
   "id": "a8f46e30",
   "metadata": {},
   "outputs": [],
   "source": []
  }
 ],
 "metadata": {
  "kernelspec": {
   "display_name": "Python 3",
   "language": "python",
   "name": "python3"
  },
  "language_info": {
   "codemirror_mode": {
    "name": "ipython",
    "version": 3
   },
   "file_extension": ".py",
   "mimetype": "text/x-python",
   "name": "python",
   "nbconvert_exporter": "python",
   "pygments_lexer": "ipython3",
   "version": "3.13.1"
  }
 },
 "nbformat": 4,
 "nbformat_minor": 5
}
