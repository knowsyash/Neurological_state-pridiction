{
 "cells": [
  {
   "cell_type": "code",
   "execution_count": 25,
   "id": "2aec28c0",
   "metadata": {},
   "outputs": [
    {
     "data": {
      "text/html": [
       "<div>\n",
       "<style scoped>\n",
       "    .dataframe tbody tr th:only-of-type {\n",
       "        vertical-align: middle;\n",
       "    }\n",
       "\n",
       "    .dataframe tbody tr th {\n",
       "        vertical-align: top;\n",
       "    }\n",
       "\n",
       "    .dataframe thead th {\n",
       "        text-align: right;\n",
       "    }\n",
       "</style>\n",
       "<table border=\"1\" class=\"dataframe\">\n",
       "  <thead>\n",
       "    <tr style=\"text-align: right;\">\n",
       "      <th></th>\n",
       "      <th>SpO2</th>\n",
       "      <th>HR</th>\n",
       "      <th>AccX</th>\n",
       "      <th>AccY</th>\n",
       "      <th>AccZ</th>\n",
       "      <th>Temp</th>\n",
       "      <th>EDA</th>\n",
       "      <th>Annotation</th>\n",
       "      <th>Subject</th>\n",
       "      <th>Age</th>\n",
       "      <th>Gender</th>\n",
       "      <th>Height_cm</th>\n",
       "      <th>Weight_kg</th>\n",
       "      <th>Annotation_Numeric</th>\n",
       "    </tr>\n",
       "  </thead>\n",
       "  <tbody>\n",
       "    <tr>\n",
       "      <th>0</th>\n",
       "      <td>96.999969</td>\n",
       "      <td>89.000763</td>\n",
       "      <td>0.760015</td>\n",
       "      <td>-0.869990</td>\n",
       "      <td>-0.100004</td>\n",
       "      <td>30.100043</td>\n",
       "      <td>0.083039</td>\n",
       "      <td>Relax</td>\n",
       "      <td>Subject1</td>\n",
       "      <td>30</td>\n",
       "      <td>M</td>\n",
       "      <td>177</td>\n",
       "      <td>94</td>\n",
       "      <td>0</td>\n",
       "    </tr>\n",
       "    <tr>\n",
       "      <th>1</th>\n",
       "      <td>96.999969</td>\n",
       "      <td>88.000137</td>\n",
       "      <td>0.750005</td>\n",
       "      <td>-0.869990</td>\n",
       "      <td>-0.110031</td>\n",
       "      <td>30.100043</td>\n",
       "      <td>0.081028</td>\n",
       "      <td>Relax</td>\n",
       "      <td>Subject1</td>\n",
       "      <td>30</td>\n",
       "      <td>M</td>\n",
       "      <td>177</td>\n",
       "      <td>94</td>\n",
       "      <td>0</td>\n",
       "    </tr>\n",
       "    <tr>\n",
       "      <th>2</th>\n",
       "      <td>96.999969</td>\n",
       "      <td>87.000443</td>\n",
       "      <td>0.750005</td>\n",
       "      <td>-0.869990</td>\n",
       "      <td>-0.110031</td>\n",
       "      <td>30.100043</td>\n",
       "      <td>0.083039</td>\n",
       "      <td>Relax</td>\n",
       "      <td>Subject1</td>\n",
       "      <td>30</td>\n",
       "      <td>M</td>\n",
       "      <td>177</td>\n",
       "      <td>94</td>\n",
       "      <td>0</td>\n",
       "    </tr>\n",
       "    <tr>\n",
       "      <th>3</th>\n",
       "      <td>96.999969</td>\n",
       "      <td>87.000443</td>\n",
       "      <td>0.750005</td>\n",
       "      <td>-0.879993</td>\n",
       "      <td>-0.100004</td>\n",
       "      <td>30.100043</td>\n",
       "      <td>0.083039</td>\n",
       "      <td>Relax</td>\n",
       "      <td>Subject1</td>\n",
       "      <td>30</td>\n",
       "      <td>M</td>\n",
       "      <td>177</td>\n",
       "      <td>94</td>\n",
       "      <td>0</td>\n",
       "    </tr>\n",
       "    <tr>\n",
       "      <th>4</th>\n",
       "      <td>96.999969</td>\n",
       "      <td>87.000443</td>\n",
       "      <td>0.760015</td>\n",
       "      <td>-0.859987</td>\n",
       "      <td>-0.100004</td>\n",
       "      <td>30.100043</td>\n",
       "      <td>0.081028</td>\n",
       "      <td>Relax</td>\n",
       "      <td>Subject1</td>\n",
       "      <td>30</td>\n",
       "      <td>M</td>\n",
       "      <td>177</td>\n",
       "      <td>94</td>\n",
       "      <td>0</td>\n",
       "    </tr>\n",
       "  </tbody>\n",
       "</table>\n",
       "</div>"
      ],
      "text/plain": [
       "        SpO2         HR      AccX      AccY      AccZ       Temp       EDA  \\\n",
       "0  96.999969  89.000763  0.760015 -0.869990 -0.100004  30.100043  0.083039   \n",
       "1  96.999969  88.000137  0.750005 -0.869990 -0.110031  30.100043  0.081028   \n",
       "2  96.999969  87.000443  0.750005 -0.869990 -0.110031  30.100043  0.083039   \n",
       "3  96.999969  87.000443  0.750005 -0.879993 -0.100004  30.100043  0.083039   \n",
       "4  96.999969  87.000443  0.760015 -0.859987 -0.100004  30.100043  0.081028   \n",
       "\n",
       "  Annotation   Subject  Age Gender  Height_cm  Weight_kg  Annotation_Numeric  \n",
       "0      Relax  Subject1   30      M        177         94                   0  \n",
       "1      Relax  Subject1   30      M        177         94                   0  \n",
       "2      Relax  Subject1   30      M        177         94                   0  \n",
       "3      Relax  Subject1   30      M        177         94                   0  \n",
       "4      Relax  Subject1   30      M        177         94                   0  "
      ]
     },
     "execution_count": 25,
     "metadata": {},
     "output_type": "execute_result"
    }
   ],
   "source": [
    "import pandas as pd\n",
    "import numpy as np\n",
    "from sklearn.preprocessing import StandardScaler\n",
    "from scipy.stats import mode\n",
    "\n",
    "# Load supervised data\n",
    "df = pd.read_csv(\"./DATA/Supervised_dataset.csv\")\n",
    "df.head()\n",
    "# Separate features and labels\n"
   ]
  },
  {
   "cell_type": "code",
   "execution_count": 26,
   "id": "56b808a7",
   "metadata": {},
   "outputs": [
    {
     "data": {
      "text/html": [
       "<div>\n",
       "<style scoped>\n",
       "    .dataframe tbody tr th:only-of-type {\n",
       "        vertical-align: middle;\n",
       "    }\n",
       "\n",
       "    .dataframe tbody tr th {\n",
       "        vertical-align: top;\n",
       "    }\n",
       "\n",
       "    .dataframe thead th {\n",
       "        text-align: right;\n",
       "    }\n",
       "</style>\n",
       "<table border=\"1\" class=\"dataframe\">\n",
       "  <thead>\n",
       "    <tr style=\"text-align: right;\">\n",
       "      <th></th>\n",
       "      <th>EDA_mean</th>\n",
       "      <th>HR_mean</th>\n",
       "      <th>Temp_mean</th>\n",
       "      <th>SpO2_mean</th>\n",
       "      <th>Acc_magnitude_mean</th>\n",
       "    </tr>\n",
       "  </thead>\n",
       "  <tbody>\n",
       "    <tr>\n",
       "      <th>0</th>\n",
       "      <td>-0.782714</td>\n",
       "      <td>0.395262</td>\n",
       "      <td>-1.045836</td>\n",
       "      <td>0.370070</td>\n",
       "      <td>0.365992</td>\n",
       "    </tr>\n",
       "    <tr>\n",
       "      <th>1</th>\n",
       "      <td>-0.782401</td>\n",
       "      <td>-0.073149</td>\n",
       "      <td>-0.782789</td>\n",
       "      <td>0.292252</td>\n",
       "      <td>0.349516</td>\n",
       "    </tr>\n",
       "    <tr>\n",
       "      <th>2</th>\n",
       "      <td>-0.781311</td>\n",
       "      <td>-0.497982</td>\n",
       "      <td>-0.594906</td>\n",
       "      <td>0.389524</td>\n",
       "      <td>-0.384603</td>\n",
       "    </tr>\n",
       "    <tr>\n",
       "      <th>3</th>\n",
       "      <td>-0.780996</td>\n",
       "      <td>-0.386874</td>\n",
       "      <td>-0.432073</td>\n",
       "      <td>-0.213562</td>\n",
       "      <td>-0.536413</td>\n",
       "    </tr>\n",
       "    <tr>\n",
       "      <th>4</th>\n",
       "      <td>-0.780714</td>\n",
       "      <td>-0.404306</td>\n",
       "      <td>-0.319343</td>\n",
       "      <td>-0.019018</td>\n",
       "      <td>-0.533821</td>\n",
       "    </tr>\n",
       "  </tbody>\n",
       "</table>\n",
       "</div>"
      ],
      "text/plain": [
       "   EDA_mean   HR_mean  Temp_mean  SpO2_mean  Acc_magnitude_mean\n",
       "0 -0.782714  0.395262  -1.045836   0.370070            0.365992\n",
       "1 -0.782401 -0.073149  -0.782789   0.292252            0.349516\n",
       "2 -0.781311 -0.497982  -0.594906   0.389524           -0.384603\n",
       "3 -0.780996 -0.386874  -0.432073  -0.213562           -0.536413\n",
       "4 -0.780714 -0.404306  -0.319343  -0.019018           -0.533821"
      ]
     },
     "execution_count": 26,
     "metadata": {},
     "output_type": "execute_result"
    }
   ],
   "source": [
    "df2=pd.read_csv('./DATA/windowed_features.csv')\n",
    "df2.head()"
   ]
  },
  {
   "cell_type": "code",
   "execution_count": 27,
   "id": "96d215d2",
   "metadata": {},
   "outputs": [],
   "source": [
    "df['Acc_magnitude']=np.sqrt(df['AccX']**2 + df['AccY']**2 + df['AccZ']**2)  "
   ]
  },
  {
   "cell_type": "code",
   "execution_count": 28,
   "id": "3213b824",
   "metadata": {},
   "outputs": [],
   "source": [
    "df.drop(columns=['AccX', 'AccY', 'AccZ','Gender','Height_cm','Weight_kg','Subject'], inplace=True)"
   ]
  },
  {
   "cell_type": "code",
   "execution_count": 29,
   "id": "4216aaa6",
   "metadata": {},
   "outputs": [],
   "source": [
    "df.rename(columns={'Annotation_Numeric': 'label'}, inplace=True)"
   ]
  },
  {
   "cell_type": "code",
   "execution_count": 30,
   "id": "2c9de915",
   "metadata": {},
   "outputs": [
    {
     "data": {
      "text/html": [
       "<div>\n",
       "<style scoped>\n",
       "    .dataframe tbody tr th:only-of-type {\n",
       "        vertical-align: middle;\n",
       "    }\n",
       "\n",
       "    .dataframe tbody tr th {\n",
       "        vertical-align: top;\n",
       "    }\n",
       "\n",
       "    .dataframe thead th {\n",
       "        text-align: right;\n",
       "    }\n",
       "</style>\n",
       "<table border=\"1\" class=\"dataframe\">\n",
       "  <thead>\n",
       "    <tr style=\"text-align: right;\">\n",
       "      <th></th>\n",
       "      <th>SpO2</th>\n",
       "      <th>HR</th>\n",
       "      <th>Temp</th>\n",
       "      <th>EDA</th>\n",
       "      <th>Annotation</th>\n",
       "      <th>Age</th>\n",
       "      <th>label</th>\n",
       "      <th>Acc_magnitude</th>\n",
       "    </tr>\n",
       "  </thead>\n",
       "  <tbody>\n",
       "    <tr>\n",
       "      <th>0</th>\n",
       "      <td>96.999969</td>\n",
       "      <td>89.000763</td>\n",
       "      <td>30.100043</td>\n",
       "      <td>0.083039</td>\n",
       "      <td>Relax</td>\n",
       "      <td>30</td>\n",
       "      <td>0</td>\n",
       "      <td>1.159528</td>\n",
       "    </tr>\n",
       "    <tr>\n",
       "      <th>1</th>\n",
       "      <td>96.999969</td>\n",
       "      <td>88.000137</td>\n",
       "      <td>30.100043</td>\n",
       "      <td>0.081028</td>\n",
       "      <td>Relax</td>\n",
       "      <td>30</td>\n",
       "      <td>0</td>\n",
       "      <td>1.153905</td>\n",
       "    </tr>\n",
       "    <tr>\n",
       "      <th>2</th>\n",
       "      <td>96.999969</td>\n",
       "      <td>87.000443</td>\n",
       "      <td>30.100043</td>\n",
       "      <td>0.083039</td>\n",
       "      <td>Relax</td>\n",
       "      <td>30</td>\n",
       "      <td>0</td>\n",
       "      <td>1.153905</td>\n",
       "    </tr>\n",
       "    <tr>\n",
       "      <th>3</th>\n",
       "      <td>96.999969</td>\n",
       "      <td>87.000443</td>\n",
       "      <td>30.100043</td>\n",
       "      <td>0.083039</td>\n",
       "      <td>Relax</td>\n",
       "      <td>30</td>\n",
       "      <td>0</td>\n",
       "      <td>1.160558</td>\n",
       "    </tr>\n",
       "    <tr>\n",
       "      <th>4</th>\n",
       "      <td>96.999969</td>\n",
       "      <td>87.000443</td>\n",
       "      <td>30.100043</td>\n",
       "      <td>0.081028</td>\n",
       "      <td>Relax</td>\n",
       "      <td>30</td>\n",
       "      <td>0</td>\n",
       "      <td>1.152042</td>\n",
       "    </tr>\n",
       "  </tbody>\n",
       "</table>\n",
       "</div>"
      ],
      "text/plain": [
       "        SpO2         HR       Temp       EDA Annotation  Age  label  \\\n",
       "0  96.999969  89.000763  30.100043  0.083039      Relax   30      0   \n",
       "1  96.999969  88.000137  30.100043  0.081028      Relax   30      0   \n",
       "2  96.999969  87.000443  30.100043  0.083039      Relax   30      0   \n",
       "3  96.999969  87.000443  30.100043  0.083039      Relax   30      0   \n",
       "4  96.999969  87.000443  30.100043  0.081028      Relax   30      0   \n",
       "\n",
       "   Acc_magnitude  \n",
       "0       1.159528  \n",
       "1       1.153905  \n",
       "2       1.153905  \n",
       "3       1.160558  \n",
       "4       1.152042  "
      ]
     },
     "execution_count": 30,
     "metadata": {},
     "output_type": "execute_result"
    }
   ],
   "source": [
    "df.head()"
   ]
  },
  {
   "cell_type": "code",
   "execution_count": 31,
   "id": "e0c90c80",
   "metadata": {},
   "outputs": [],
   "source": [
    "df.drop(columns=['Annotation'], inplace=True)"
   ]
  },
  {
   "cell_type": "code",
   "execution_count": 32,
   "id": "18c810de",
   "metadata": {},
   "outputs": [],
   "source": [
    "features = df.drop('label', axis=1)\n",
    "labels = df['label'].values\n",
    "\n",
    "scaler = StandardScaler()\n",
    "features_scaled = scaler.fit_transform(features)\n",
    "df_scaled = pd.DataFrame(features_scaled, columns=features.columns)\n",
    "\n",
    "# Add label back for windowing\n",
    "df_scaled['label'] = labels\n",
    "\n",
    "# Set window size\n",
    "window_size = 30\n",
    "num_windows = len(df_scaled) // window_size\n",
    "\n",
    "windowed_features = []\n",
    "windowed_labels = []\n",
    "\n",
    "for i in range(num_windows):\n",
    "    window = df_scaled.iloc[i*window_size : (i+1)*window_size]\n",
    "    \n",
    "    # Only mean features\n",
    "    means = window.drop('label', axis=1).mean().values\n",
    "    \n",
    "    # Label: majority vote in the window\n",
    "    label = mode(window['label'], keepdims=False).mode.item()\n",
    "    \n",
    "    windowed_features.append(means)\n",
    "    windowed_labels.append(label)\n",
    "\n",
    "# Create DataFrame\n",
    "columns = [f\"{col}_mean\" for col in features.columns]\n",
    "windowed_df = pd.DataFrame(windowed_features, columns=columns)\n",
    "windowed_df['label'] = windowed_labels\n",
    "\n",
    "# Save result\n",
    "windowed_df.to_csv(\"Supervised_windowed.csv\", index=False)\n"
   ]
  },
  {
   "cell_type": "code",
   "execution_count": 34,
   "id": "f435ac91",
   "metadata": {},
   "outputs": [],
   "source": [
    "df3=pd.read_csv('./DATA/Supervised_windowed.csv')"
   ]
  },
  {
   "cell_type": "code",
   "execution_count": 36,
   "id": "057f357a",
   "metadata": {},
   "outputs": [
    {
     "data": {
      "text/plain": [
       "(1536, 7)"
      ]
     },
     "execution_count": 36,
     "metadata": {},
     "output_type": "execute_result"
    }
   ],
   "source": [
    "df3.shape"
   ]
  },
  {
   "cell_type": "code",
   "execution_count": 38,
   "id": "5362a2d3",
   "metadata": {},
   "outputs": [
    {
     "data": {
      "text/plain": [
       "(1536, 5)"
      ]
     },
     "execution_count": 38,
     "metadata": {},
     "output_type": "execute_result"
    }
   ],
   "source": [
    "df2.shape"
   ]
  },
  {
   "cell_type": "code",
   "execution_count": 39,
   "id": "0926fd9d",
   "metadata": {},
   "outputs": [
    {
     "data": {
      "text/html": [
       "<div>\n",
       "<style scoped>\n",
       "    .dataframe tbody tr th:only-of-type {\n",
       "        vertical-align: middle;\n",
       "    }\n",
       "\n",
       "    .dataframe tbody tr th {\n",
       "        vertical-align: top;\n",
       "    }\n",
       "\n",
       "    .dataframe thead th {\n",
       "        text-align: right;\n",
       "    }\n",
       "</style>\n",
       "<table border=\"1\" class=\"dataframe\">\n",
       "  <thead>\n",
       "    <tr style=\"text-align: right;\">\n",
       "      <th></th>\n",
       "      <th>SpO2_mean</th>\n",
       "      <th>HR_mean</th>\n",
       "      <th>Temp_mean</th>\n",
       "      <th>EDA_mean</th>\n",
       "      <th>Age_mean</th>\n",
       "      <th>Acc_magnitude_mean</th>\n",
       "      <th>label</th>\n",
       "    </tr>\n",
       "  </thead>\n",
       "  <tbody>\n",
       "    <tr>\n",
       "      <th>0</th>\n",
       "      <td>0.370070</td>\n",
       "      <td>0.395262</td>\n",
       "      <td>-1.045836</td>\n",
       "      <td>-0.782714</td>\n",
       "      <td>1.069476</td>\n",
       "      <td>0.365992</td>\n",
       "      <td>0</td>\n",
       "    </tr>\n",
       "    <tr>\n",
       "      <th>1</th>\n",
       "      <td>0.292252</td>\n",
       "      <td>-0.073149</td>\n",
       "      <td>-0.782789</td>\n",
       "      <td>-0.782401</td>\n",
       "      <td>1.069476</td>\n",
       "      <td>0.349516</td>\n",
       "      <td>0</td>\n",
       "    </tr>\n",
       "    <tr>\n",
       "      <th>2</th>\n",
       "      <td>0.389524</td>\n",
       "      <td>-0.497982</td>\n",
       "      <td>-0.594906</td>\n",
       "      <td>-0.781311</td>\n",
       "      <td>1.069476</td>\n",
       "      <td>-0.384603</td>\n",
       "      <td>0</td>\n",
       "    </tr>\n",
       "    <tr>\n",
       "      <th>3</th>\n",
       "      <td>-0.213562</td>\n",
       "      <td>-0.386874</td>\n",
       "      <td>-0.432073</td>\n",
       "      <td>-0.780996</td>\n",
       "      <td>1.069476</td>\n",
       "      <td>-0.536413</td>\n",
       "      <td>0</td>\n",
       "    </tr>\n",
       "    <tr>\n",
       "      <th>4</th>\n",
       "      <td>-0.019018</td>\n",
       "      <td>-0.404306</td>\n",
       "      <td>-0.319343</td>\n",
       "      <td>-0.780714</td>\n",
       "      <td>1.069476</td>\n",
       "      <td>-0.533821</td>\n",
       "      <td>0</td>\n",
       "    </tr>\n",
       "  </tbody>\n",
       "</table>\n",
       "</div>"
      ],
      "text/plain": [
       "   SpO2_mean   HR_mean  Temp_mean  EDA_mean  Age_mean  Acc_magnitude_mean  \\\n",
       "0   0.370070  0.395262  -1.045836 -0.782714  1.069476            0.365992   \n",
       "1   0.292252 -0.073149  -0.782789 -0.782401  1.069476            0.349516   \n",
       "2   0.389524 -0.497982  -0.594906 -0.781311  1.069476           -0.384603   \n",
       "3  -0.213562 -0.386874  -0.432073 -0.780996  1.069476           -0.536413   \n",
       "4  -0.019018 -0.404306  -0.319343 -0.780714  1.069476           -0.533821   \n",
       "\n",
       "   label  \n",
       "0      0  \n",
       "1      0  \n",
       "2      0  \n",
       "3      0  \n",
       "4      0  "
      ]
     },
     "execution_count": 39,
     "metadata": {},
     "output_type": "execute_result"
    }
   ],
   "source": [
    "df3.head()"
   ]
  },
  {
   "cell_type": "code",
   "execution_count": 40,
   "id": "7be24d2c",
   "metadata": {},
   "outputs": [],
   "source": [
    "df3.drop(columns=['Age_mean'], inplace=True)"
   ]
  },
  {
   "cell_type": "code",
   "execution_count": 41,
   "id": "3dc4c0eb",
   "metadata": {},
   "outputs": [
    {
     "data": {
      "text/html": [
       "<div>\n",
       "<style scoped>\n",
       "    .dataframe tbody tr th:only-of-type {\n",
       "        vertical-align: middle;\n",
       "    }\n",
       "\n",
       "    .dataframe tbody tr th {\n",
       "        vertical-align: top;\n",
       "    }\n",
       "\n",
       "    .dataframe thead th {\n",
       "        text-align: right;\n",
       "    }\n",
       "</style>\n",
       "<table border=\"1\" class=\"dataframe\">\n",
       "  <thead>\n",
       "    <tr style=\"text-align: right;\">\n",
       "      <th></th>\n",
       "      <th>SpO2_mean</th>\n",
       "      <th>HR_mean</th>\n",
       "      <th>Temp_mean</th>\n",
       "      <th>EDA_mean</th>\n",
       "      <th>Acc_magnitude_mean</th>\n",
       "      <th>label</th>\n",
       "    </tr>\n",
       "  </thead>\n",
       "  <tbody>\n",
       "    <tr>\n",
       "      <th>0</th>\n",
       "      <td>0.370070</td>\n",
       "      <td>0.395262</td>\n",
       "      <td>-1.045836</td>\n",
       "      <td>-0.782714</td>\n",
       "      <td>0.365992</td>\n",
       "      <td>0</td>\n",
       "    </tr>\n",
       "    <tr>\n",
       "      <th>1</th>\n",
       "      <td>0.292252</td>\n",
       "      <td>-0.073149</td>\n",
       "      <td>-0.782789</td>\n",
       "      <td>-0.782401</td>\n",
       "      <td>0.349516</td>\n",
       "      <td>0</td>\n",
       "    </tr>\n",
       "    <tr>\n",
       "      <th>2</th>\n",
       "      <td>0.389524</td>\n",
       "      <td>-0.497982</td>\n",
       "      <td>-0.594906</td>\n",
       "      <td>-0.781311</td>\n",
       "      <td>-0.384603</td>\n",
       "      <td>0</td>\n",
       "    </tr>\n",
       "    <tr>\n",
       "      <th>3</th>\n",
       "      <td>-0.213562</td>\n",
       "      <td>-0.386874</td>\n",
       "      <td>-0.432073</td>\n",
       "      <td>-0.780996</td>\n",
       "      <td>-0.536413</td>\n",
       "      <td>0</td>\n",
       "    </tr>\n",
       "    <tr>\n",
       "      <th>4</th>\n",
       "      <td>-0.019018</td>\n",
       "      <td>-0.404306</td>\n",
       "      <td>-0.319343</td>\n",
       "      <td>-0.780714</td>\n",
       "      <td>-0.533821</td>\n",
       "      <td>0</td>\n",
       "    </tr>\n",
       "  </tbody>\n",
       "</table>\n",
       "</div>"
      ],
      "text/plain": [
       "   SpO2_mean   HR_mean  Temp_mean  EDA_mean  Acc_magnitude_mean  label\n",
       "0   0.370070  0.395262  -1.045836 -0.782714            0.365992      0\n",
       "1   0.292252 -0.073149  -0.782789 -0.782401            0.349516      0\n",
       "2   0.389524 -0.497982  -0.594906 -0.781311           -0.384603      0\n",
       "3  -0.213562 -0.386874  -0.432073 -0.780996           -0.536413      0\n",
       "4  -0.019018 -0.404306  -0.319343 -0.780714           -0.533821      0"
      ]
     },
     "execution_count": 41,
     "metadata": {},
     "output_type": "execute_result"
    }
   ],
   "source": [
    "df3.head()"
   ]
  },
  {
   "cell_type": "code",
   "execution_count": 57,
   "id": "b3d7636a",
   "metadata": {},
   "outputs": [
    {
     "data": {
      "text/plain": [
       "label\n",
       "0    800\n",
       "2    277\n",
       "3    239\n",
       "1    220\n",
       "Name: count, dtype: int64"
      ]
     },
     "execution_count": 57,
     "metadata": {},
     "output_type": "execute_result"
    }
   ],
   "source": [
    "df3['label'].value_counts()"
   ]
  },
  {
   "cell_type": "code",
   "execution_count": 42,
   "id": "89a04b4e",
   "metadata": {},
   "outputs": [
    {
     "data": {
      "text/html": [
       "<div>\n",
       "<style scoped>\n",
       "    .dataframe tbody tr th:only-of-type {\n",
       "        vertical-align: middle;\n",
       "    }\n",
       "\n",
       "    .dataframe tbody tr th {\n",
       "        vertical-align: top;\n",
       "    }\n",
       "\n",
       "    .dataframe thead th {\n",
       "        text-align: right;\n",
       "    }\n",
       "</style>\n",
       "<table border=\"1\" class=\"dataframe\">\n",
       "  <thead>\n",
       "    <tr style=\"text-align: right;\">\n",
       "      <th></th>\n",
       "      <th>EDA_mean</th>\n",
       "      <th>HR_mean</th>\n",
       "      <th>Temp_mean</th>\n",
       "      <th>SpO2_mean</th>\n",
       "      <th>Acc_magnitude_mean</th>\n",
       "    </tr>\n",
       "  </thead>\n",
       "  <tbody>\n",
       "    <tr>\n",
       "      <th>0</th>\n",
       "      <td>-0.782714</td>\n",
       "      <td>0.395262</td>\n",
       "      <td>-1.045836</td>\n",
       "      <td>0.370070</td>\n",
       "      <td>0.365992</td>\n",
       "    </tr>\n",
       "    <tr>\n",
       "      <th>1</th>\n",
       "      <td>-0.782401</td>\n",
       "      <td>-0.073149</td>\n",
       "      <td>-0.782789</td>\n",
       "      <td>0.292252</td>\n",
       "      <td>0.349516</td>\n",
       "    </tr>\n",
       "    <tr>\n",
       "      <th>2</th>\n",
       "      <td>-0.781311</td>\n",
       "      <td>-0.497982</td>\n",
       "      <td>-0.594906</td>\n",
       "      <td>0.389524</td>\n",
       "      <td>-0.384603</td>\n",
       "    </tr>\n",
       "    <tr>\n",
       "      <th>3</th>\n",
       "      <td>-0.780996</td>\n",
       "      <td>-0.386874</td>\n",
       "      <td>-0.432073</td>\n",
       "      <td>-0.213562</td>\n",
       "      <td>-0.536413</td>\n",
       "    </tr>\n",
       "    <tr>\n",
       "      <th>4</th>\n",
       "      <td>-0.780714</td>\n",
       "      <td>-0.404306</td>\n",
       "      <td>-0.319343</td>\n",
       "      <td>-0.019018</td>\n",
       "      <td>-0.533821</td>\n",
       "    </tr>\n",
       "  </tbody>\n",
       "</table>\n",
       "</div>"
      ],
      "text/plain": [
       "   EDA_mean   HR_mean  Temp_mean  SpO2_mean  Acc_magnitude_mean\n",
       "0 -0.782714  0.395262  -1.045836   0.370070            0.365992\n",
       "1 -0.782401 -0.073149  -0.782789   0.292252            0.349516\n",
       "2 -0.781311 -0.497982  -0.594906   0.389524           -0.384603\n",
       "3 -0.780996 -0.386874  -0.432073  -0.213562           -0.536413\n",
       "4 -0.780714 -0.404306  -0.319343  -0.019018           -0.533821"
      ]
     },
     "execution_count": 42,
     "metadata": {},
     "output_type": "execute_result"
    }
   ],
   "source": [
    "df2.head()"
   ]
  },
  {
   "cell_type": "code",
   "execution_count": 43,
   "id": "2db989f7",
   "metadata": {},
   "outputs": [],
   "source": [
    "feature_cols = ['SpO2_mean', 'HR_mean', 'Temp_mean', 'EDA_mean', 'Acc_magnitude_mean']\n",
    "supervised_df = df3[feature_cols + ['label']]\n",
    "unsupervised_df = df2[feature_cols]"
   ]
  },
  {
   "cell_type": "code",
   "execution_count": 44,
   "id": "f44c2abb",
   "metadata": {},
   "outputs": [],
   "source": [
    "# Separate features and labels\n",
    "X_supervised = df3[feature_cols]\n",
    "y_supervised = df3['label']\n",
    "\n",
    "X_unsupervised = df2.copy()\n",
    "y_unsupervised = np.full(X_unsupervised.shape[0], -1)  # unlabeled\n",
    "\n",
    "# Combine\n",
    "X_all = pd.concat([X_supervised, X_unsupervised], ignore_index=True)\n",
    "y_all = np.concatenate([y_supervised, y_unsupervised])\n"
   ]
  },
  {
   "cell_type": "code",
   "execution_count": 46,
   "id": "fd2c9449",
   "metadata": {},
   "outputs": [
    {
     "data": {
      "text/plain": [
       "(3072, 5)"
      ]
     },
     "execution_count": 46,
     "metadata": {},
     "output_type": "execute_result"
    }
   ],
   "source": [
    "X_all.shape"
   ]
  },
  {
   "cell_type": "code",
   "execution_count": 49,
   "id": "16be8550",
   "metadata": {},
   "outputs": [
    {
     "data": {
      "text/html": [
       "<div>\n",
       "<style scoped>\n",
       "    .dataframe tbody tr th:only-of-type {\n",
       "        vertical-align: middle;\n",
       "    }\n",
       "\n",
       "    .dataframe tbody tr th {\n",
       "        vertical-align: top;\n",
       "    }\n",
       "\n",
       "    .dataframe thead th {\n",
       "        text-align: right;\n",
       "    }\n",
       "</style>\n",
       "<table border=\"1\" class=\"dataframe\">\n",
       "  <thead>\n",
       "    <tr style=\"text-align: right;\">\n",
       "      <th></th>\n",
       "      <th>SpO2_mean</th>\n",
       "      <th>HR_mean</th>\n",
       "      <th>Temp_mean</th>\n",
       "      <th>EDA_mean</th>\n",
       "      <th>Acc_magnitude_mean</th>\n",
       "    </tr>\n",
       "  </thead>\n",
       "  <tbody>\n",
       "    <tr>\n",
       "      <th>0</th>\n",
       "      <td>0.370070</td>\n",
       "      <td>0.395262</td>\n",
       "      <td>-1.045836</td>\n",
       "      <td>-0.782714</td>\n",
       "      <td>0.365992</td>\n",
       "    </tr>\n",
       "    <tr>\n",
       "      <th>1</th>\n",
       "      <td>0.292252</td>\n",
       "      <td>-0.073149</td>\n",
       "      <td>-0.782789</td>\n",
       "      <td>-0.782401</td>\n",
       "      <td>0.349516</td>\n",
       "    </tr>\n",
       "    <tr>\n",
       "      <th>2</th>\n",
       "      <td>0.389524</td>\n",
       "      <td>-0.497982</td>\n",
       "      <td>-0.594906</td>\n",
       "      <td>-0.781311</td>\n",
       "      <td>-0.384603</td>\n",
       "    </tr>\n",
       "    <tr>\n",
       "      <th>3</th>\n",
       "      <td>-0.213562</td>\n",
       "      <td>-0.386874</td>\n",
       "      <td>-0.432073</td>\n",
       "      <td>-0.780996</td>\n",
       "      <td>-0.536413</td>\n",
       "    </tr>\n",
       "    <tr>\n",
       "      <th>4</th>\n",
       "      <td>-0.019018</td>\n",
       "      <td>-0.404306</td>\n",
       "      <td>-0.319343</td>\n",
       "      <td>-0.780714</td>\n",
       "      <td>-0.533821</td>\n",
       "    </tr>\n",
       "  </tbody>\n",
       "</table>\n",
       "</div>"
      ],
      "text/plain": [
       "   SpO2_mean   HR_mean  Temp_mean  EDA_mean  Acc_magnitude_mean\n",
       "0   0.370070  0.395262  -1.045836 -0.782714            0.365992\n",
       "1   0.292252 -0.073149  -0.782789 -0.782401            0.349516\n",
       "2   0.389524 -0.497982  -0.594906 -0.781311           -0.384603\n",
       "3  -0.213562 -0.386874  -0.432073 -0.780996           -0.536413\n",
       "4  -0.019018 -0.404306  -0.319343 -0.780714           -0.533821"
      ]
     },
     "execution_count": 49,
     "metadata": {},
     "output_type": "execute_result"
    }
   ],
   "source": [
    "X_all.head()"
   ]
  },
  {
   "cell_type": "code",
   "execution_count": 47,
   "id": "cdeeb04a",
   "metadata": {},
   "outputs": [
    {
     "data": {
      "text/plain": [
       "(3072,)"
      ]
     },
     "execution_count": 47,
     "metadata": {},
     "output_type": "execute_result"
    }
   ],
   "source": [
    "y_all.shape"
   ]
  },
  {
   "cell_type": "code",
   "execution_count": 48,
   "id": "a193912d",
   "metadata": {},
   "outputs": [],
   "source": [
    "from sklearn.semi_supervised import LabelSpreading\n",
    "\n",
    "# Scale features\n",
    "scaler = StandardScaler()\n",
    "X_scaled = scaler.fit_transform(X_all)\n",
    "\n",
    "# Apply Label Spreading\n",
    "model = LabelSpreading(kernel='rbf', alpha=0.2)\n",
    "model.fit(X_scaled, y_all)\n",
    "\n",
    "# Predict labels for the previously unlabeled data\n",
    "predicted_labels = model.transduction_[len(y_supervised):]\n"
   ]
  },
  {
   "cell_type": "code",
   "execution_count": 50,
   "id": "ec568b7d",
   "metadata": {},
   "outputs": [],
   "source": [
    "df2['predicted_label'] = predicted_labels\n",
    "df2.to_csv(\"unlabeled_with_predictions.csv\", index=False)\n"
   ]
  },
  {
   "cell_type": "code",
   "execution_count": 51,
   "id": "297fc80e",
   "metadata": {},
   "outputs": [
    {
     "data": {
      "text/html": [
       "<div>\n",
       "<style scoped>\n",
       "    .dataframe tbody tr th:only-of-type {\n",
       "        vertical-align: middle;\n",
       "    }\n",
       "\n",
       "    .dataframe tbody tr th {\n",
       "        vertical-align: top;\n",
       "    }\n",
       "\n",
       "    .dataframe thead th {\n",
       "        text-align: right;\n",
       "    }\n",
       "</style>\n",
       "<table border=\"1\" class=\"dataframe\">\n",
       "  <thead>\n",
       "    <tr style=\"text-align: right;\">\n",
       "      <th></th>\n",
       "      <th>EDA_mean</th>\n",
       "      <th>HR_mean</th>\n",
       "      <th>Temp_mean</th>\n",
       "      <th>SpO2_mean</th>\n",
       "      <th>Acc_magnitude_mean</th>\n",
       "      <th>predicted_label</th>\n",
       "    </tr>\n",
       "  </thead>\n",
       "  <tbody>\n",
       "    <tr>\n",
       "      <th>0</th>\n",
       "      <td>-0.782714</td>\n",
       "      <td>0.395262</td>\n",
       "      <td>-1.045836</td>\n",
       "      <td>0.370070</td>\n",
       "      <td>0.365992</td>\n",
       "      <td>0</td>\n",
       "    </tr>\n",
       "    <tr>\n",
       "      <th>1</th>\n",
       "      <td>-0.782401</td>\n",
       "      <td>-0.073149</td>\n",
       "      <td>-0.782789</td>\n",
       "      <td>0.292252</td>\n",
       "      <td>0.349516</td>\n",
       "      <td>0</td>\n",
       "    </tr>\n",
       "    <tr>\n",
       "      <th>2</th>\n",
       "      <td>-0.781311</td>\n",
       "      <td>-0.497982</td>\n",
       "      <td>-0.594906</td>\n",
       "      <td>0.389524</td>\n",
       "      <td>-0.384603</td>\n",
       "      <td>0</td>\n",
       "    </tr>\n",
       "    <tr>\n",
       "      <th>3</th>\n",
       "      <td>-0.780996</td>\n",
       "      <td>-0.386874</td>\n",
       "      <td>-0.432073</td>\n",
       "      <td>-0.213562</td>\n",
       "      <td>-0.536413</td>\n",
       "      <td>0</td>\n",
       "    </tr>\n",
       "    <tr>\n",
       "      <th>4</th>\n",
       "      <td>-0.780714</td>\n",
       "      <td>-0.404306</td>\n",
       "      <td>-0.319343</td>\n",
       "      <td>-0.019018</td>\n",
       "      <td>-0.533821</td>\n",
       "      <td>0</td>\n",
       "    </tr>\n",
       "  </tbody>\n",
       "</table>\n",
       "</div>"
      ],
      "text/plain": [
       "   EDA_mean   HR_mean  Temp_mean  SpO2_mean  Acc_magnitude_mean  \\\n",
       "0 -0.782714  0.395262  -1.045836   0.370070            0.365992   \n",
       "1 -0.782401 -0.073149  -0.782789   0.292252            0.349516   \n",
       "2 -0.781311 -0.497982  -0.594906   0.389524           -0.384603   \n",
       "3 -0.780996 -0.386874  -0.432073  -0.213562           -0.536413   \n",
       "4 -0.780714 -0.404306  -0.319343  -0.019018           -0.533821   \n",
       "\n",
       "   predicted_label  \n",
       "0                0  \n",
       "1                0  \n",
       "2                0  \n",
       "3                0  \n",
       "4                0  "
      ]
     },
     "execution_count": 51,
     "metadata": {},
     "output_type": "execute_result"
    }
   ],
   "source": [
    "df2.head()"
   ]
  },
  {
   "cell_type": "code",
   "execution_count": 53,
   "id": "760369d1",
   "metadata": {},
   "outputs": [
    {
     "data": {
      "image/png": "[encoded data removed]",
      "text/plain": [
       "<Figure size 640x480 with 1 Axes>"
      ]
     },
     "metadata": {},
     "output_type": "display_data"
    }
   ],
   "source": [
    "import seaborn as sns\n",
    "import matplotlib.pyplot as plt\n",
    "\n",
    "# Visualize predicted labels\n",
    "sns.countplot(x='predicted_label', data=df2)\n",
    "plt.title(\"Distribution of Predicted Labels (Unlabeled Data)\")\n",
    "plt.xlabel(\"Label\")\n",
    "plt.ylabel(\"Count\")\n",
    "plt.show()\n"
   ]
  },
  {
   "cell_type": "code",
   "execution_count": 54,
   "id": "00f09b8e",
   "metadata": {},
   "outputs": [
    {
     "data": {
      "image/png": "[encoded data removed]",
      "text/plain": [
       "<Figure size 640x480 with 1 Axes>"
      ]
     },
     "metadata": {},
     "output_type": "display_data"
    }
   ],
   "source": [
    "from sklearn.decomposition import PCA\n",
    "\n",
    "# Optional: combine original + pseudo-labeled\n",
    "combined_df = pd.concat([\n",
    "    supervised_df,\n",
    "    unsupervised_df.rename(columns={'predicted_label': 'label'})\n",
    "], ignore_index=True)\n",
    "\n",
    "# PCA for visualization\n",
    "pca = PCA(n_components=2)\n",
    "X_pca = pca.fit_transform(combined_df[feature_cols])\n",
    "combined_df['PC1'] = X_pca[:, 0]\n",
    "combined_df['PC2'] = X_pca[:, 1]\n",
    "\n",
    "# Plot\n",
    "sns.scatterplot(data=combined_df, x='PC1', y='PC2', hue='label', palette='Set2')\n",
    "plt.title(\"PCA Projection of Labeled and Pseudo-Labeled Data\")\n",
    "plt.show()\n"
   ]
  },
  {
   "cell_type": "code",
   "execution_count": 55,
   "id": "9c059696",
   "metadata": {},
   "outputs": [
    {
     "data": {
      "image/png": "[encoded data removed]",
      "text/plain": [
       "<Figure size 640x480 with 1 Axes>"
      ]
     },
     "metadata": {},
     "output_type": "display_data"
    }
   ],
   "source": [
    "# Get label distributions\n",
    "label_distributions = model.label_distributions_\n",
    "\n",
    "# Get max probability for each prediction (confidence)\n",
    "pseudo_confidences = label_distributions[len(y_supervised):].max(axis=1)\n",
    "\n",
    "# Visualize confidence\n",
    "sns.histplot(pseudo_confidences, bins=20, kde=True)\n",
    "plt.title(\"Confidence of Pseudo-Labels\")\n",
    "plt.xlabel(\"Max Probability\")\n",
    "plt.ylabel(\"Count\")\n",
    "plt.show()\n"
   ]
  },
  {
   "cell_type": "code",
   "execution_count": 58,
   "id": "348493ce",
   "metadata": {},
   "outputs": [
    {
     "data": {
      "text/plain": [
       "predicted_label\n",
       "0    796\n",
       "2    282\n",
       "3    239\n",
       "1    219\n",
       "Name: count, dtype: int64"
      ]
     },
     "execution_count": 58,
     "metadata": {},
     "output_type": "execute_result"
    }
   ],
   "source": [
    "df2['predicted_label'].value_counts()"
   ]
  },
  {
   "cell_type": "code",
   "execution_count": 59,
   "id": "1d008df0",
   "metadata": {},
   "outputs": [
    {
     "data": {
      "text/plain": [
       "label\n",
       "0    800\n",
       "2    277\n",
       "3    239\n",
       "1    220\n",
       "Name: count, dtype: int64"
      ]
     },
     "execution_count": 59,
     "metadata": {},
     "output_type": "execute_result"
    }
   ],
   "source": [
    "df3['label'].value_counts()"
   ]
  },
  {
   "cell_type": "code",
   "execution_count": null,
   "id": "b58eea34",
   "metadata": {},
   "outputs": [],
   "source": []
  }
 ],
 "metadata": {
  "kernelspec": {
   "display_name": "Python 3",
   "language": "python",
   "name": "python3"
  },
  "language_info": {
   "codemirror_mode": {
    "name": "ipython",
    "version": 3
   },
   "file_extension": ".py",
   "mimetype": "text/x-python",
   "name": "python",
   "nbconvert_exporter": "python",
   "pygments_lexer": "ipython3",
   "version": "3.12.8"
  }
 },
 "nbformat": 4,
 "nbformat_minor": 5
}
